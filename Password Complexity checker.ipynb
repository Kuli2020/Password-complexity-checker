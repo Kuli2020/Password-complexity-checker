{
 "cells": [
  {
   "cell_type": "code",
   "execution_count": null,
   "id": "9d7fad35-8300-4bc2-9ad5-c87fcaeb6cc8",
   "metadata": {},
   "outputs": [],
   "source": [
    "import re\n",
    "\n",
    "def assess_password_strength(password):\n",
    "    # Criteria for password strength\n",
    "    length_criteria = len(password) >= 12\n",
    "    uppercase_criteria = re.search(r'[A-Z]', password) is not None\n",
    "    lowercase_criteria = re.search(r'[a-z]', password) is not None\n",
    "    number_criteria = re.search(r'[0-9]', password) is not None\n",
    "    special_char_criteria = re.search(r'[\\W_]', password) is not None\n",
    "\n",
    "    # Calculate strength score\n",
    "    strength_score = sum([length_criteria, uppercase_criteria, lowercase_criteria, number_criteria, special_char_criteria])\n",
    "\n",
    "    # Provide feedback based on the strength score\n",
    "    if strength_score == 5:\n",
    "        feedback = \"Very Strong\"\n",
    "    elif strength_score == 4:\n",
    "        feedback = \"Strong\"\n",
    "    elif strength_score == 3:\n",
    "        feedback = \"Moderate\"\n",
    "    elif strength_score == 2:\n",
    "        feedback = \"Weak\"\n",
    "    else:\n",
    "        feedback = \"Very Weak\"\n",
    "\n",
    "    return feedback\n",
    "\n",
    "if __name__ == \"__main__\":\n",
    "    # Example usage\n",
    "    password = input(\"Enter a password to assess its strength: \")\n",
    "    strength = assess_password_strength(password)\n",
    "    print(f\"Password strength: {strength}\")"
   ]
  }
 ],
 "metadata": {
  "kernelspec": {
   "display_name": "Python 3 (ipykernel)",
   "language": "python",
   "name": "python3"
  },
  "language_info": {
   "codemirror_mode": {
    "name": "ipython",
    "version": 3
   },
   "file_extension": ".py",
   "mimetype": "text/x-python",
   "name": "python",
   "nbconvert_exporter": "python",
   "pygments_lexer": "ipython3",
   "version": "3.11.5"
  }
 },
 "nbformat": 4,
 "nbformat_minor": 5
}
